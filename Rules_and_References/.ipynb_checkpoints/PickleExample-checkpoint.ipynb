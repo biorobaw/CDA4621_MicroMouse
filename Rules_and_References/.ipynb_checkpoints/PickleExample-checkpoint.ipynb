{
 "cells": [
  {
   "cell_type": "markdown",
   "id": "c19a8a32-2223-4596-ad91-0e198a8153c0",
   "metadata": {},
   "source": [
    "# Pickle in Python Tutorial: Object Serialization\n",
    "As a data scientist, you will use sets of data in the form of dictionaries, DataFrames, or any other data type. When working with those, you might want to save them to a file, so you can use them later on or send them to someone else. This is what Python's pickle module is for: it serializes objects so they can be saved to a file, and loaded in a program again later on.\n",
    "\n",
    "## What is Pickling?\n",
    "Pickle is used for serializing and de-serializing Python object structures, also called marshalling or flattening. Serialization refers to the process of converting an object in memory to a byte stream that can be stored on disk or sent over a network. Later on, this character stream can then be retrieved and de-serialized back to a Python object. Pickling is not to be confused with compression! The former is the conversion of an object from one representation (data in Random Access Memory (RAM)) to another (text on disk), while the latter is the process of encoding data with fewer bits, in order to save disk space.\n",
    "\n",
    "## What can you do with pickle?\n",
    "Pickling is useful for applications where you need some degree of persistency in your data. Your program's state data can be saved to disk, so you can continue working on it later on. It can also be used to send data over a Transmission Control Protocol (TCP) or socket connection, or to store python objects in a database. Pickle is very useful for when you're working with machine learning algorithms, where you want to save them to be able to make new predictions at a later time, without having to rewrite everything or train the model all over again.\n",
    "\n",
    "## When not to use pickle\n",
    "If you want to use data across different programming languages, pickle is not recommended. Its protocol is specific to Python, thus, cross-language compatibility is not guaranteed. The same holds for different versions of Python itself. Unpickling a file that was pickled in a different version of Python may not always work properly, so you have to make sure that you're using the same version and perform an update if necessary. You should also try not to unpickle data from an untrusted source. Malicious code inside the file might be executed upon unpickling.\n",
    "\n",
    "## What can be pickled?\n",
    "You can pickle objects with the following data types:\n",
    "\n",
    "<ol>\n",
    "    <li>Booleans</li>\n",
    "    <li>Integers</li>\n",
    "    <li>Floats</li>\n",
    "    <li>Complex Numbers</li>\n",
    "    <li>Strings (normal and Unicode)</li>\n",
    "    <li>Tuples</li>\n",
    "    <li>Lists</li>\n",
    "    <li>Sets</li>\n",
    "    <li>Dictionaries that contain picklable objects</li>\n",
    "\n",
    "</ol>\n",
    "\n",
    "\n",
    "All the above can be pickled, but you can also do the same for classes and functions, for example, if they are defined at the top level of a module.\n",
    "\n",
    "Not everything can be pickled (easily), though: examples of this are generators, inner classes, lambda functions and defaultdicts. In the case of lambda functions, you need to use an additional package named dill. With defaultdicts, you need to create them with a module-level function."
   ]
  },
  {
   "cell_type": "markdown",
   "id": "2e28ff26-5543-4b4a-adc8-631d08c039ac",
   "metadata": {},
   "source": [
    "# Pickling Files\n",
    "To use pickle, start by importing it in python"
   ]
  },
  {
   "cell_type": "code",
   "execution_count": 1,
   "id": "980d7ec2-ea62-40b3-bc6a-a1a97693798a",
   "metadata": {},
   "outputs": [],
   "source": [
    "import pickle"
   ]
  },
  {
   "cell_type": "markdown",
   "id": "a326d510-4d4d-449e-ade9-cb3da82159ed",
   "metadata": {},
   "source": [
    "For this tutorial, you will be pickling a simple dictionary. A dictionary is a list of key : value elements. You will save it to a file and then load again. Declare the dictionary as such:"
   ]
  },
  {
   "cell_type": "code",
   "execution_count": 2,
   "id": "9c69f155-f02b-4c39-8e20-2f3d55332370",
   "metadata": {},
   "outputs": [],
   "source": [
    "dogs_dict = {'Ozzy': 3,\n",
    "             'Filou': 8,\n",
    "             'Luna': 5,\n",
    "             'Skippy': 10,\n",
    "             'Barco': 12,\n",
    "             'Balou': 9,\n",
    "             'Laika': 16 }"
   ]
  },
  {
   "cell_type": "markdown",
   "id": "17fdfc0b-8a30-42b0-b302-242c6611243a",
   "metadata": {},
   "source": [
    "To pickle this dictionary, you first need to specify the name of the file you will write it to, which is dogs in this case.\n",
    "\n",
    "Note that the file does not have an extension.\n",
    "\n",
    "To open the file for writing, simply use the open() function. The first argument should be the name of your file. The second argument is 'wb'. The w means that you'll be writing to the file, and b refers to binary mode. This means that the data will be written in the form of byte objects. If you forget the b, a TypeError: must be str, not bytes will be returned. You may sometimes come across a slightly different notation; w+b, but don't worry, it provides the same functionality."
   ]
  },
  {
   "cell_type": "code",
   "execution_count": 3,
   "id": "4dd0c408-ee6e-4ee1-bf48-65b9b9f3f6aa",
   "metadata": {},
   "outputs": [],
   "source": [
    "filename = 'dogs'\n",
    "outfile = open(filename,'wb')"
   ]
  },
  {
   "cell_type": "markdown",
   "id": "e63ce10d-8347-4435-9173-e727635562e9",
   "metadata": {},
   "source": [
    "Once the file is opened for writing, you can use pickle.dump(), which takes two arguments: the object you want to pickle and the file to which the object has to be saved. In this case, the former will be dogs_dict, while the latter will be outfile.\n",
    "\n",
    "Don't forget to close the file with close()!"
   ]
  },
  {
   "cell_type": "code",
   "execution_count": 4,
   "id": "c0aaecd7-c850-44aa-9648-ba8f1bb3147f",
   "metadata": {},
   "outputs": [],
   "source": [
    "pickle.dump(dogs_dict,outfile)\n",
    "outfile.close()"
   ]
  },
  {
   "cell_type": "markdown",
   "id": "113f244a-2937-4f3e-a8cb-36c692a4659a",
   "metadata": {},
   "source": [
    "Now, a new file named dogs should have appeared in the same directory as your Python script (unless you specified a file path as file name)."
   ]
  },
  {
   "cell_type": "markdown",
   "id": "474c411e-02f2-454b-bb57-d56ca4e4c272",
   "metadata": {},
   "source": [
    "# Unpickling Files\n",
    "The process of loading a pickled file back into a Python program is similar to the one you saw previously: use the open() function again, but this time with 'rb' as second argument (instead of wb). The r stands for read mode and the b stands for binary mode. You'll be reading a binary file. Assign this to infile. Next, use pickle.load(), with infile as argument, and assign it to new_dict. The contents of the file are now assigned to this new variable. Again, you'll need to close the file at the end."
   ]
  },
  {
   "cell_type": "code",
   "execution_count": 5,
   "id": "6fec019a-be97-466a-8247-1dd756a8f448",
   "metadata": {},
   "outputs": [],
   "source": [
    "infile = open(filename,'rb')\n",
    "new_dict = pickle.load(infile)\n",
    "infile.close()"
   ]
  },
  {
   "cell_type": "markdown",
   "id": "c1c71c68-52af-4bb5-a819-3d65fec7fbbb",
   "metadata": {},
   "source": [
    "To make sure that you successfully unpickled it, you can print the dictionary, compare it to the previous dictionary and check its type with type()."
   ]
  },
  {
   "cell_type": "code",
   "execution_count": 6,
   "id": "ba068d15-54a9-439f-9454-436512035928",
   "metadata": {},
   "outputs": [
    {
     "name": "stdout",
     "output_type": "stream",
     "text": [
      "{'Ozzy': 3, 'Filou': 8, 'Luna': 5, 'Skippy': 10, 'Barco': 12, 'Balou': 9, 'Laika': 16}\n",
      "True\n",
      "<class 'dict'>\n"
     ]
    }
   ],
   "source": [
    "print(new_dict)\n",
    "print(new_dict==dogs_dict)\n",
    "print(type(new_dict))"
   ]
  },
  {
   "cell_type": "markdown",
   "id": "37db6117-1ce8-4fa8-bac4-33d0e82ca4a5",
   "metadata": {},
   "source": [
    "# More Examples\n",
    "In this example we will create a Python class and save and load instances of it using pickle."
   ]
  },
  {
   "cell_type": "code",
   "execution_count": 7,
   "id": "af76b009-58ff-477c-8385-8273fe457c53",
   "metadata": {},
   "outputs": [],
   "source": [
    "'''\n",
    "This is an example of a python class to represent cars \n",
    "'''\n",
    "class car:\n",
    "    def __init__(self, make='Ford',model='Mustang',motor='gas',color='red',max_mph='200',speed='0'):\n",
    "        self.make = make\n",
    "        self.model = model\n",
    "        self.motor = motor\n",
    "        self.color = color\n",
    "        self.max_mph = max_mph\n",
    "        self.speed = speed\n",
    "    \n",
    "    def accelerate(self):\n",
    "        self.speed +=5\n",
    "        if self.speed > self.max_mph:\n",
    "            self.speed = self.max_mph\n",
    "\n",
    "    def brake(self):\n",
    "        self.speed -=5\n",
    "        if self.speed < 0:\n",
    "            self.speed = 0\n",
    "\n",
    "    def get_speed(self):\n",
    "        return self.speed \n",
    "    def print_car(self):\n",
    "        print('#################################')\n",
    "        print('Make: ',self.make)\n",
    "        print('Model: ',self.model)\n",
    "        print('Current Speed: ',str(self.speed))"
   ]
  },
  {
   "cell_type": "code",
   "execution_count": 9,
   "id": "52caf1e4-a4ee-4ab0-8aac-147ee60380c0",
   "metadata": {},
   "outputs": [
    {
     "name": "stderr",
     "output_type": "stream",
     "text": [
      "/tmp/ipykernel_694759/1439232321.py:8: DeprecationWarning: `np.object` is a deprecated alias for the builtin `object`. To silence this warning, use `object` by itself. Doing this will not modify any behavior and is safe. \n",
      "Deprecated in NumPy 1.20; for more details and guidance: https://numpy.org/devdocs/release/1.20.0-notes.html#deprecations\n",
      "  cars = np.ndarray((3,),dtype=np.object)\n"
     ]
    },
    {
     "ename": "TypeError",
     "evalue": "can only concatenate str (not \"int\") to str",
     "output_type": "error",
     "traceback": [
      "\u001b[0;31m---------------------------------------------------------------------------\u001b[0m",
      "\u001b[0;31mTypeError\u001b[0m                                 Traceback (most recent call last)",
      "Cell \u001b[0;32mIn [9], line 19\u001b[0m\n\u001b[1;32m     17\u001b[0m num_accelerate \u001b[38;5;241m=\u001b[39m random\u001b[38;5;241m.\u001b[39mrandint(\u001b[38;5;241m1\u001b[39m, \u001b[38;5;241m20\u001b[39m)\n\u001b[1;32m     18\u001b[0m \u001b[38;5;28;01mfor\u001b[39;00m i \u001b[38;5;129;01min\u001b[39;00m \u001b[38;5;28mrange\u001b[39m(num_accelerate):\n\u001b[0;32m---> 19\u001b[0m     \u001b[43mc\u001b[49m\u001b[38;5;241;43m.\u001b[39;49m\u001b[43maccelerate\u001b[49m\u001b[43m(\u001b[49m\u001b[43m)\u001b[49m\n\u001b[1;32m     20\u001b[0m c\u001b[38;5;241m.\u001b[39mprint_car()\n",
      "Cell \u001b[0;32mIn [7], line 14\u001b[0m, in \u001b[0;36mcar.accelerate\u001b[0;34m(self)\u001b[0m\n\u001b[1;32m     13\u001b[0m \u001b[38;5;28;01mdef\u001b[39;00m \u001b[38;5;21maccelerate\u001b[39m(\u001b[38;5;28mself\u001b[39m):\n\u001b[0;32m---> 14\u001b[0m     \u001b[38;5;28mself\u001b[39m\u001b[38;5;241m.\u001b[39mspeed \u001b[38;5;241m+\u001b[39m\u001b[38;5;241m=\u001b[39m\u001b[38;5;241m5\u001b[39m\n\u001b[1;32m     15\u001b[0m     \u001b[38;5;28;01mif\u001b[39;00m \u001b[38;5;28mself\u001b[39m\u001b[38;5;241m.\u001b[39mspeed \u001b[38;5;241m>\u001b[39m \u001b[38;5;28mself\u001b[39m\u001b[38;5;241m.\u001b[39mmax_mph:\n\u001b[1;32m     16\u001b[0m         \u001b[38;5;28mself\u001b[39m\u001b[38;5;241m.\u001b[39mspeed \u001b[38;5;241m=\u001b[39m \u001b[38;5;28mself\u001b[39m\u001b[38;5;241m.\u001b[39mmax_mph\n",
      "\u001b[0;31mTypeError\u001b[0m: can only concatenate str (not \"int\") to str"
     ]
    }
   ],
   "source": [
    "import numpy as np\n",
    "import random\n",
    "\n",
    "car1 = car() #Uses defualt values\n",
    "car2 = car(make='Tesla',model='X',motor='electric',color='blue',max_mph='150',speed='0')\n",
    "car3 = car(make='Ford',model='F350',motor='Deisel',color='white',max_mph='170',speed='0')\n",
    "\n",
    "cars = np.ndarray((3,),dtype=np.object)\n",
    "\n",
    "cars[0] = car1\n",
    "cars[1] = car2\n",
    "cars[2] = car3\n",
    "\n",
    "# Make cars accelerate for random ammount\n",
    "\n",
    "for c in cars:\n",
    "    num_accelerate = random.randint(1, 20)\n",
    "    for i in range(num_accelerate):\n",
    "        c.accelerate()\n",
    "    c.print_car()\n",
    "    "
   ]
  }
 ],
 "metadata": {
  "kernelspec": {
   "display_name": "Python 3 (ipykernel)",
   "language": "python",
   "name": "python3"
  },
  "language_info": {
   "codemirror_mode": {
    "name": "ipython",
    "version": 3
   },
   "file_extension": ".py",
   "mimetype": "text/x-python",
   "name": "python",
   "nbconvert_exporter": "python",
   "pygments_lexer": "ipython3",
   "version": "3.8.10"
  }
 },
 "nbformat": 4,
 "nbformat_minor": 5
}
